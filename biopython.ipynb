{
 "cells": [
  {
   "cell_type": "markdown",
   "source": [
    "# https://biopython.org/"
   ],
   "metadata": {}
  },
  {
   "cell_type": "code",
   "execution_count": 1,
   "source": [
    "!pip install biopython"
   ],
   "outputs": [
    {
     "output_type": "stream",
     "name": "stdout",
     "text": [
      "Collecting biopython\n",
      "  Downloading biopython-1.79-cp39-cp39-win_amd64.whl (2.3 MB)\n",
      "Requirement already satisfied: numpy in c:\\python\\lib\\site-packages (from biopython) (1.21.2)\n",
      "Installing collected packages: biopython\n",
      "Successfully installed biopython-1.79\n"
     ]
    }
   ],
   "metadata": {}
  },
  {
   "cell_type": "code",
   "execution_count": 2,
   "source": [
    "import Bio\r\n",
    "print(Bio.__version__)"
   ],
   "outputs": [
    {
     "output_type": "stream",
     "name": "stdout",
     "text": [
      "1.79\n"
     ]
    }
   ],
   "metadata": {}
  },
  {
   "cell_type": "code",
   "execution_count": 8,
   "source": [
    "from Bio.Seq import Seq\r\n",
    "\r\n",
    "a_simple_sequence = Seq(\"ACTGAAAAA\")\r\n",
    "\r\n",
    "print(type(a_simple_sequence))\r\n",
    "\r\n",
    "print(a_simple_sequence)"
   ],
   "outputs": [
    {
     "output_type": "stream",
     "name": "stdout",
     "text": [
      "<class 'Bio.Seq.Seq'>\n",
      "ACTGAAAAA\n"
     ]
    }
   ],
   "metadata": {}
  },
  {
   "cell_type": "markdown",
   "source": [
    "# GC Content"
   ],
   "metadata": {}
  },
  {
   "cell_type": "code",
   "execution_count": 9,
   "source": [
    "print(a_simple_sequence.count(\"A\"))"
   ],
   "outputs": [
    {
     "output_type": "stream",
     "name": "stdout",
     "text": [
      "6\n"
     ]
    }
   ],
   "metadata": {}
  },
  {
   "cell_type": "code",
   "execution_count": 15,
   "source": [
    "from Bio.SeqUtils import GC\r\n",
    "\r\n",
    "gc_value = GC(a_simple_sequence)\r\n",
    "print(GC(a_simple_sequence))\r\n",
    "print(\"The GC-content is \",round(gc_value, 2), \"%\", sep=\"\")"
   ],
   "outputs": [
    {
     "output_type": "stream",
     "name": "stdout",
     "text": [
      "22.22222222222222\n",
      "The GC-content is 22.22%\n"
     ]
    }
   ],
   "metadata": {}
  }
 ],
 "metadata": {
  "orig_nbformat": 4,
  "language_info": {
   "name": "python",
   "version": "3.9.7",
   "mimetype": "text/x-python",
   "codemirror_mode": {
    "name": "ipython",
    "version": 3
   },
   "pygments_lexer": "ipython3",
   "nbconvert_exporter": "python",
   "file_extension": ".py"
  },
  "kernelspec": {
   "name": "python3",
   "display_name": "Python 3.9.7 64-bit"
  },
  "interpreter": {
   "hash": "e922dd073470bdcc017ae3abd31d6491d6ed7bf31c1d559806e5511bfea88b81"
  }
 },
 "nbformat": 4,
 "nbformat_minor": 2
}