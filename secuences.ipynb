{
 "cells": [
  {
   "cell_type": "markdown",
   "source": [
    "# DNA Double Helix\r\n",
    "\r\n",
    "![Alt text](https://upload.wikimedia.org/wikipedia/commons/0/00/Dnaconformations.png)\r\n",
    "\r\n",
    "## ---->\r\n",
    "## ATC\r\n",
    "## <----\r\n",
    "## TAG\r\n",
    "\r\n",
    "![DNA_animationUrl](https://upload.wikimedia.org/wikipedia/commons/0/0c/DNA_animation.gif \"DNA_animation\")"
   ],
   "metadata": {}
  },
  {
   "cell_type": "code",
   "execution_count": 1,
   "source": [
    "from Bio.Seq import Seq\r\n",
    "\r\n",
    "a_simple_sequence = Seq(\"ACTGAAAAA\")\r\n",
    "\r\n",
    "print(a_simple_sequence)"
   ],
   "outputs": [
    {
     "output_type": "stream",
     "name": "stdout",
     "text": [
      "ACTGAAAAA\n"
     ]
    }
   ],
   "metadata": {}
  },
  {
   "cell_type": "code",
   "execution_count": 2,
   "source": [
    "from Bio.SeqUtils import GC\r\n",
    "\r\n",
    "gc_value = GC(a_simple_sequence)\r\n",
    "# print(GC(a_simple_sequence))\r\n",
    "print(\"The GC-content is \",round(gc_value, 2), \"%\", sep=\"\")"
   ],
   "outputs": [
    {
     "output_type": "stream",
     "name": "stdout",
     "text": [
      "The GC-content is 22.22%\n"
     ]
    }
   ],
   "metadata": {}
  },
  {
   "cell_type": "code",
   "execution_count": 7,
   "source": [
    "another_sequence = Seq(\"ATC\")\r\n",
    "print(another_sequence)\r\n",
    "\r\n",
    "rev_com = another_sequence.reverse_complement()\r\n",
    "\r\n",
    "print(rev_com)\r\n",
    "\r\n",
    "comp = another_sequence.complement()\r\n",
    "print(comp)\r\n",
    "\r\n",
    "transc = another_sequence.transcribe()\r\n",
    "print(transc)\r\n",
    "\r\n",
    "transl = another_sequence.translate()\r\n",
    "print(transl)"
   ],
   "outputs": [
    {
     "output_type": "stream",
     "name": "stdout",
     "text": [
      "ATC\n",
      "GAT\n",
      "TAG\n",
      "AUC\n",
      "I\n"
     ]
    }
   ],
   "metadata": {}
  }
 ],
 "metadata": {
  "orig_nbformat": 4,
  "language_info": {
   "name": "python",
   "version": "3.9.7",
   "mimetype": "text/x-python",
   "codemirror_mode": {
    "name": "ipython",
    "version": 3
   },
   "pygments_lexer": "ipython3",
   "nbconvert_exporter": "python",
   "file_extension": ".py"
  },
  "kernelspec": {
   "name": "python3",
   "display_name": "Python 3.9.7 64-bit"
  },
  "interpreter": {
   "hash": "e922dd073470bdcc017ae3abd31d6491d6ed7bf31c1d559806e5511bfea88b81"
  }
 },
 "nbformat": 4,
 "nbformat_minor": 2
}