{
 "cells": [
  {
   "cell_type": "markdown",
   "source": [
    "## English\r\n",
    "Nucleotides are organic molecules consisting of a nucleoside and a phosphate. They serve as monomeric units of the nucleic acid polymers – deoxyribonucleic acid (DNA) and ribonucleic acid (RNA), both of which are essential biomolecules within all life-forms on Earth. Nucleotides are obtained in the diet and are also synthesized from common nutrients by the liver.\r\n",
    "\r\n",
    "![Alt text](https://upload.wikimedia.org/wikipedia/commons/e/e2/Nucleotides_1.svg)\r\n",
    "\r\n",
    "## Spanish\r\n",
    "Los nucleótidos son moléculas orgánicas formadas por la unión covalente de un nucleósido (una pentosa y una base nitrogenada) y un grupo fosfato. El nucleósido es la parte del nucleótido formada únicamente por la base nitrogenada y la pentosa.\r\n",
    "\r\n",
    "Son los monómeros de los ácidos nucleicos (ADN y ARN) en los cuales forman cadenas lineales de miles o millones de nucleótidos, pero también realizan funciones importantes como molécula libre (por ejemplo, el ATP o el GTP).\r\n",
    "\r\n",
    "![Alt text](https://upload.wikimedia.org/wikipedia/commons/b/bd/Nucleotides_1_-_ES.svg)\r\n"
   ],
   "metadata": {}
  },
  {
   "cell_type": "code",
   "execution_count": 3,
   "source": [
    "sequence = \"ATTTCGAT\"\r\n",
    "\r\n",
    "# print(sequence.count(\"A\"))\r\n",
    "\r\n",
    "total_adenines = sequence.count(\"A\")\r\n",
    "total_cytosines = sequence.count(\"C\")\r\n",
    "total_guanines = sequence.count(\"G\")\r\n",
    "total_thymines = sequence.count(\"T\")\r\n",
    "total_uracil = sequence.count(\"U\")\r\n",
    "\r\n",
    "print(\"Total of adenines: \", total_adenines)\r\n",
    "print(\"Total of cytosines: \", total_cytosines)\r\n",
    "print(\"Total of guanines: \", total_guanines)\r\n",
    "print(\"Total of thymines: \", total_thymines)\r\n",
    "print(\"Total of uracil: \", total_uracil)\r\n"
   ],
   "outputs": [
    {
     "output_type": "stream",
     "name": "stdout",
     "text": [
      "Total of adenines:  2\n",
      "Total of cytosines:  1\n",
      "Total of guanines:  1\n",
      "Total of thymines:  4\n",
      "Total of uracil:  0\n"
     ]
    }
   ],
   "metadata": {}
  }
 ],
 "metadata": {
  "orig_nbformat": 4,
  "language_info": {
   "name": "python",
   "version": "3.9.7",
   "mimetype": "text/x-python",
   "codemirror_mode": {
    "name": "ipython",
    "version": 3
   },
   "pygments_lexer": "ipython3",
   "nbconvert_exporter": "python",
   "file_extension": ".py"
  },
  "kernelspec": {
   "name": "python3",
   "display_name": "Python 3.9.7 64-bit"
  },
  "interpreter": {
   "hash": "e922dd073470bdcc017ae3abd31d6491d6ed7bf31c1d559806e5511bfea88b81"
  }
 },
 "nbformat": 4,
 "nbformat_minor": 2
}